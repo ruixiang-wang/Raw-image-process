{
 "cells": [
  {
   "cell_type": "code",
   "execution_count": 1,
   "id": "9d45d14e",
   "metadata": {},
   "outputs": [],
   "source": [
    "import os\n",
    "import numpy as np\n",
    "import torch\n",
    "import torchvision.transforms as transforms\n",
    "from PIL import Image, ImageDraw\n",
    "import cv2\n",
    "import torchvision\n",
    "import matplotlib.pyplot as plt\n",
    "import argparse\n",
    "import warnings\n",
    "\n",
    "warnings.filterwarnings(\"ignore\")"
   ]
  },
  {
   "cell_type": "code",
   "execution_count": 2,
   "id": "6ea086bf",
   "metadata": {},
   "outputs": [],
   "source": [
    "img_path = './raw\\\\r78438331t.raw'"
   ]
  },
  {
   "cell_type": "code",
   "execution_count": 3,
   "id": "7061e2eb",
   "metadata": {},
   "outputs": [
    {
     "ename": "UnidentifiedImageError",
     "evalue": "cannot identify image file './raw\\\\r78438331t.raw'",
     "output_type": "error",
     "traceback": [
      "\u001b[1;31m---------------------------------------------------------------------------\u001b[0m",
      "\u001b[1;31mUnidentifiedImageError\u001b[0m                    Traceback (most recent call last)",
      "Cell \u001b[1;32mIn[3], line 1\u001b[0m\n\u001b[1;32m----> 1\u001b[0m img1 \u001b[38;5;241m=\u001b[39m \u001b[43mImage\u001b[49m\u001b[38;5;241;43m.\u001b[39;49m\u001b[43mopen\u001b[49m\u001b[43m(\u001b[49m\u001b[43mimg_path\u001b[49m\u001b[43m)\u001b[49m\n",
      "File \u001b[1;32mD:\\Anaconda3\\envs\\pfld\\lib\\site-packages\\PIL\\Image.py:3186\u001b[0m, in \u001b[0;36mopen\u001b[1;34m(fp, mode, formats)\u001b[0m\n\u001b[0;32m   3184\u001b[0m \u001b[38;5;28;01mfor\u001b[39;00m message \u001b[38;5;129;01min\u001b[39;00m accept_warnings:\n\u001b[0;32m   3185\u001b[0m     warnings\u001b[38;5;241m.\u001b[39mwarn(message)\n\u001b[1;32m-> 3186\u001b[0m \u001b[38;5;28;01mraise\u001b[39;00m UnidentifiedImageError(\n\u001b[0;32m   3187\u001b[0m     \u001b[38;5;124m\"\u001b[39m\u001b[38;5;124mcannot identify image file \u001b[39m\u001b[38;5;132;01m%r\u001b[39;00m\u001b[38;5;124m\"\u001b[39m \u001b[38;5;241m%\u001b[39m (filename \u001b[38;5;28;01mif\u001b[39;00m filename \u001b[38;5;28;01melse\u001b[39;00m fp)\n\u001b[0;32m   3188\u001b[0m )\n",
      "\u001b[1;31mUnidentifiedImageError\u001b[0m: cannot identify image file './raw\\\\r78438331t.raw'"
     ]
    }
   ],
   "source": [
    "img1 = Image.open(img_path)"
   ]
  },
  {
   "cell_type": "code",
   "execution_count": 9,
   "id": "eb452ddd",
   "metadata": {},
   "outputs": [],
   "source": [
    "img_path = './raw\\\\r78438330t.raw'"
   ]
  },
  {
   "cell_type": "code",
   "execution_count": 10,
   "id": "7e549c98",
   "metadata": {},
   "outputs": [],
   "source": [
    "img2 = Image.open(img_path)"
   ]
  },
  {
   "cell_type": "code",
   "execution_count": 17,
   "id": "89dc9216",
   "metadata": {},
   "outputs": [
    {
     "ename": "ValueError",
     "evalue": "conversion from RGB to RAW not supported",
     "output_type": "error",
     "traceback": [
      "\u001b[1;31m---------------------------------------------------------------------------\u001b[0m",
      "\u001b[1;31mValueError\u001b[0m                                Traceback (most recent call last)",
      "\u001b[1;32m~\\AppData\\Local\\Temp\\ipykernel_23744\\128510598.py\u001b[0m in \u001b[0;36m<module>\u001b[1;34m\u001b[0m\n\u001b[1;32m----> 1\u001b[1;33m \u001b[0mimg2\u001b[0m\u001b[1;33m.\u001b[0m\u001b[0mconvert\u001b[0m\u001b[1;33m(\u001b[0m\u001b[1;34m\"RAW\"\u001b[0m\u001b[1;33m)\u001b[0m\u001b[1;33m\u001b[0m\u001b[1;33m\u001b[0m\u001b[0m\n\u001b[0m",
      "\u001b[1;32mD:\\Anaconda3\\lib\\site-packages\\PIL\\Image.py\u001b[0m in \u001b[0;36mconvert\u001b[1;34m(self, mode, matrix, dither, palette, colors)\u001b[0m\n\u001b[0;32m   1061\u001b[0m \u001b[1;33m\u001b[0m\u001b[0m\n\u001b[0;32m   1062\u001b[0m         \u001b[1;32mtry\u001b[0m\u001b[1;33m:\u001b[0m\u001b[1;33m\u001b[0m\u001b[1;33m\u001b[0m\u001b[0m\n\u001b[1;32m-> 1063\u001b[1;33m             \u001b[0mim\u001b[0m \u001b[1;33m=\u001b[0m \u001b[0mself\u001b[0m\u001b[1;33m.\u001b[0m\u001b[0mim\u001b[0m\u001b[1;33m.\u001b[0m\u001b[0mconvert\u001b[0m\u001b[1;33m(\u001b[0m\u001b[0mmode\u001b[0m\u001b[1;33m,\u001b[0m \u001b[0mdither\u001b[0m\u001b[1;33m)\u001b[0m\u001b[1;33m\u001b[0m\u001b[1;33m\u001b[0m\u001b[0m\n\u001b[0m\u001b[0;32m   1064\u001b[0m         \u001b[1;32mexcept\u001b[0m \u001b[0mValueError\u001b[0m\u001b[1;33m:\u001b[0m\u001b[1;33m\u001b[0m\u001b[1;33m\u001b[0m\u001b[0m\n\u001b[0;32m   1065\u001b[0m             \u001b[1;32mtry\u001b[0m\u001b[1;33m:\u001b[0m\u001b[1;33m\u001b[0m\u001b[1;33m\u001b[0m\u001b[0m\n",
      "\u001b[1;31mValueError\u001b[0m: conversion from RGB to RAW not supported"
     ]
    }
   ],
   "source": [
    "img2.convert(\"RAW\")"
   ]
  },
  {
   "cell_type": "code",
   "execution_count": 7,
   "id": "c52aa3a5",
   "metadata": {},
   "outputs": [],
   "source": [
    "def get_img_tensor(pil_img, use_cuda, target_size, transform):\n",
    "    iw, ih = pil_img.size\n",
    "    if iw != target_size[0] or ih != target_size[1]:\n",
    "        pil_img = pil_img.resize(target_size, Image.Resampling.BICUBIC)\n",
    "\n",
    "    tensor_img = transform(pil_img)\n",
    "    if use_cuda:\n",
    "        tensor_img = tensor_img.cuda()\n",
    "\n",
    "    return tensor_img"
   ]
  },
  {
   "cell_type": "code",
   "execution_count": 8,
   "id": "50074e7b",
   "metadata": {},
   "outputs": [],
   "source": [
    "detect_transform = transforms.Compose([\n",
    "    transforms.ToTensor(),\n",
    "#     transforms.Normalize([0.5, 0.5, 0.5], [0.5, 0.5, 0.5]),\n",
    "])"
   ]
  },
  {
   "cell_type": "code",
   "execution_count": 15,
   "id": "7551370b",
   "metadata": {},
   "outputs": [],
   "source": [
    "detect_tensor_img = get_img_tensor(img2, False, img2.size, detect_transform)"
   ]
  },
  {
   "cell_type": "code",
   "execution_count": 16,
   "id": "d308f05f",
   "metadata": {},
   "outputs": [
    {
     "data": {
      "text/plain": [
       "torch.Size([3, 4928, 3264])"
      ]
     },
     "execution_count": 16,
     "metadata": {},
     "output_type": "execute_result"
    }
   ],
   "source": [
    "detect_tensor_img.shape"
   ]
  },
  {
   "cell_type": "code",
   "execution_count": 4,
   "id": "000ab246",
   "metadata": {},
   "outputs": [],
   "source": [
    "img_path = './raw\\\\r78438330t.NEF'"
   ]
  },
  {
   "cell_type": "code",
   "execution_count": 5,
   "id": "f98bcdeb",
   "metadata": {},
   "outputs": [],
   "source": [
    "img3 = Image.open(img_path)"
   ]
  },
  {
   "cell_type": "code",
   "execution_count": 9,
   "id": "8a9c2ff1",
   "metadata": {},
   "outputs": [],
   "source": [
    "detect_tensor_img3 = get_img_tensor(img3, False, img3.size, detect_transform)"
   ]
  },
  {
   "cell_type": "code",
   "execution_count": 10,
   "id": "61746027",
   "metadata": {},
   "outputs": [
    {
     "data": {
      "text/plain": [
       "torch.Size([3, 160, 120])"
      ]
     },
     "execution_count": 10,
     "metadata": {},
     "output_type": "execute_result"
    }
   ],
   "source": [
    "detect_tensor_img3.shape"
   ]
  },
  {
   "cell_type": "code",
   "execution_count": 12,
   "id": "1fd21fb6",
   "metadata": {},
   "outputs": [],
   "source": [
    "img_path = './raw\\\\a0002-dgw_005.dng'"
   ]
  },
  {
   "cell_type": "code",
   "execution_count": 13,
   "id": "5fdeac31",
   "metadata": {},
   "outputs": [],
   "source": [
    "img4 = Image.open(img_path)"
   ]
  },
  {
   "cell_type": "code",
   "execution_count": 16,
   "id": "d6172abd",
   "metadata": {},
   "outputs": [],
   "source": [
    "detect_tensor_img4 = get_img_tensor(img4, False, img4.size, detect_transform)"
   ]
  },
  {
   "cell_type": "code",
   "execution_count": 17,
   "id": "e1098105",
   "metadata": {},
   "outputs": [
    {
     "data": {
      "text/plain": [
       "torch.Size([3, 256, 170])"
      ]
     },
     "execution_count": 17,
     "metadata": {},
     "output_type": "execute_result"
    }
   ],
   "source": [
    "detect_tensor_img4.shape"
   ]
  },
  {
   "cell_type": "code",
   "execution_count": null,
   "id": "13562a89",
   "metadata": {},
   "outputs": [],
   "source": []
  }
 ],
 "metadata": {
  "kernelspec": {
   "display_name": "Python 3 (ipykernel)",
   "language": "python",
   "name": "python3"
  },
  "language_info": {
   "codemirror_mode": {
    "name": "ipython",
    "version": 3
   },
   "file_extension": ".py",
   "mimetype": "text/x-python",
   "name": "python",
   "nbconvert_exporter": "python",
   "pygments_lexer": "ipython3",
   "version": "3.9.15"
  }
 },
 "nbformat": 4,
 "nbformat_minor": 5
}
