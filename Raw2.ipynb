{
 "cells": [
  {
   "cell_type": "code",
   "execution_count": 1,
   "id": "5b9f2a68",
   "metadata": {},
   "outputs": [],
   "source": [
    "import rawpy\n",
    "import numpy as np\n",
    "from PIL import Image\n",
    "import imageio\n",
    "import exifread"
   ]
  },
  {
   "cell_type": "code",
   "execution_count": 2,
   "id": "7f787d83",
   "metadata": {},
   "outputs": [],
   "source": [
    "openpath = \"./raw\\\\a0002-dgw_005.dng\""
   ]
  },
  {
   "cell_type": "code",
   "execution_count": 3,
   "id": "2e629408",
   "metadata": {},
   "outputs": [],
   "source": [
    "with rawpy.imread(openpath) as raw:\n",
    "    bayer_visible = raw.raw_image_visible;\n",
    "    width = bayer_visible.shape[0];\n",
    "    height = bayer_visible.shape[1];"
   ]
  },
  {
   "cell_type": "code",
   "execution_count": 4,
   "id": "79806aab",
   "metadata": {},
   "outputs": [
    {
     "name": "stdout",
     "output_type": "stream",
     "text": [
      "(2844, 4284)\n"
     ]
    }
   ],
   "source": [
    "print(bayer_visible.shape)"
   ]
  },
  {
   "cell_type": "code",
   "execution_count": null,
   "id": "b8b9ff30",
   "metadata": {},
   "outputs": [],
   "source": [
    "print(bayer_visible)"
   ]
  },
  {
   "cell_type": "code",
   "execution_count": 5,
   "id": "5e66ec5b",
   "metadata": {},
   "outputs": [],
   "source": [
    "savepath = './raw\\\\Bayer.raw';"
   ]
  },
  {
   "cell_type": "code",
   "execution_count": null,
   "id": "febcbd0b",
   "metadata": {},
   "outputs": [],
   "source": [
    "with open(savepath, 'wb') as f:\n",
    "    for x in range(0,width):\n",
    "        for y in range(0,height):\n",
    "            data = int(bayer_visible[x][y]);\n",
    "            f.write(data.to_bytes(2, byteorder='little'));"
   ]
  },
  {
   "cell_type": "code",
   "execution_count": null,
   "id": "aa63bbb2",
   "metadata": {},
   "outputs": [],
   "source": []
  }
 ],
 "metadata": {
  "kernelspec": {
   "display_name": "Python 3 (ipykernel)",
   "language": "python",
   "name": "python3"
  },
  "language_info": {
   "codemirror_mode": {
    "name": "ipython",
    "version": 3
   },
   "file_extension": ".py",
   "mimetype": "text/x-python",
   "name": "python",
   "nbconvert_exporter": "python",
   "pygments_lexer": "ipython3",
   "version": "3.9.15"
  }
 },
 "nbformat": 4,
 "nbformat_minor": 5
}
